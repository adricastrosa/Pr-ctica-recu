{
 "cells": [
  {
   "cell_type": "markdown",
   "id": "c397fe88",
   "metadata": {},
   "source": [
    "# PRELIMINARES"
   ]
  },
  {
   "cell_type": "markdown",
   "id": "d7dbfe68",
   "metadata": {},
   "source": [
    "#### Autora: Adriana Castro Santodomingo"
   ]
  },
  {
   "cell_type": "markdown",
   "id": "aed70ea2",
   "metadata": {},
   "source": [
    "En este proyecto, aplicaré técnicas de aprendizaje supervisado sobre los datos recopilados para el censo de EE. UU. para ayudar a CharityML (una organización benéfica ficticia) a identificar a las personas con más probabilidades de donar a su causa. Es decir, es un problema de clasificación, donde se busca predecir quien puede donar o no, asumiendo que pueden donar solo aquellos que ganan más de 50K año."
   ]
  },
  {
   "cell_type": "markdown",
   "id": "447c7dbd",
   "metadata": {},
   "source": [
    "# ASPECTOS COMPUTACIONALES"
   ]
  },
  {
   "cell_type": "markdown",
   "id": "bbd436e7",
   "metadata": {},
   "source": [
    "Procedemos a importar las librerias correspondientes "
   ]
  },
  {
   "cell_type": "code",
   "execution_count": 1,
   "id": "f1f74a31",
   "metadata": {},
   "outputs": [],
   "source": [
    "import numpy as np\n",
    "import pandas as pd\n",
    "import matplotlib.pyplot as plt\n",
    "import seaborn as sns\n",
    "import warnings\n",
    "import statistics\n",
    "import random\n",
    "import multiprocessing\n",
    "import pickle\n",
    "import xgboost as xgb\n",
    "\n",
    "warnings.filterwarnings(\"ignore\")"
   ]
  },
  {
   "cell_type": "markdown",
   "id": "8ea9ad59",
   "metadata": {},
   "source": [
    "Importamos también los modelos de aprendizaje supervisados de sklearn que vamos a utilizar"
   ]
  },
  {
   "cell_type": "code",
   "execution_count": 2,
   "id": "5860cd79",
   "metadata": {},
   "outputs": [],
   "source": [
    "from sklearn.utils import resample\n",
    "from sklearn.preprocessing import OneHotEncoder, LabelEncoder, StandardScaler\n",
    "from sklearn.pipeline import Pipeline\n",
    "from sklearn.impute import SimpleImputer\n",
    "from sklearn.model_selection import train_test_split, cross_val_score, GridSearchCV\n",
    "from sklearn.compose import ColumnTransformer\n",
    "from sklearn.tree import DecisionTreeClassifier\n",
    "from sklearn.ensemble import RandomForestClassifier, AdaBoostClassifier, GradientBoostingClassifier\n",
    "from sklearn.linear_model import LogisticRegression, LinearRegression, Lasso\n",
    "from sklearn.metrics import accuracy_score, roc_auc_score, f1_score, roc_curve, confusion_matrix, precision_recall_curve\n",
    "from sklearn.metrics import plot_confusion_matrix, auc\n",
    "from sklearn.feature_selection import SelectFromModel\n",
    "from sklearn.preprocessing import MinMaxScaler\n",
    "from sklearn.model_selection import train_test_split, GridSearchCV\n",
    "from sklearn.ensemble import AdaBoostClassifier, RandomForestClassifier, GradientBoostingClassifier\n",
    "from sklearn.naive_bayes import MultinomialNB\n",
    "from sklearn.neighbors import KNeighborsClassifier\n",
    "from sklearn.metrics import fbeta_score, accuracy_score, roc_auc_score, make_scorer\n",
    "from sklearn.linear_model import LogisticRegression\n",
    "from sklearn.ensemble import GradientBoostingRegressor\n",
    "from sklearn.metrics import mean_squared_error\n",
    "from sklearn.model_selection import cross_val_score\n",
    "from sklearn.model_selection import train_test_split\n",
    "from sklearn.model_selection import RepeatedKFold\n",
    "from sklearn.model_selection import KFold\n",
    "from sklearn.model_selection import GridSearchCV\n",
    "from sklearn.model_selection import ParameterGrid\n",
    "from sklearn.inspection import permutation_importance\n",
    "from sklearn.metrics import precision_score, recall_score, f1_score, confusion_matrix, accuracy_score, roc_auc_score\n",
    "from time import time\n",
    "from pandas.plotting import autocorrelation_plot"
   ]
  },
  {
   "cell_type": "markdown",
   "id": "1327fb82",
   "metadata": {},
   "source": [
    "Importamos los datos llamandolos *datos*"
   ]
  },
  {
   "cell_type": "code",
   "execution_count": 3,
   "id": "0edbdc62",
   "metadata": {},
   "outputs": [],
   "source": [
    "datos = pd.read_csv('~/Documents/BU/Master/2/recu/income-db.csv')"
   ]
  },
  {
   "cell_type": "markdown",
   "id": "a94888bd",
   "metadata": {},
   "source": [
    "Mostramos las primeras 5 lineas de los datos para comprobar que se han importado correctamente"
   ]
  },
  {
   "cell_type": "code",
   "execution_count": 4,
   "id": "df765175",
   "metadata": {},
   "outputs": [
    {
     "data": {
      "text/html": [
       "<div>\n",
       "<style scoped>\n",
       "    .dataframe tbody tr th:only-of-type {\n",
       "        vertical-align: middle;\n",
       "    }\n",
       "\n",
       "    .dataframe tbody tr th {\n",
       "        vertical-align: top;\n",
       "    }\n",
       "\n",
       "    .dataframe thead th {\n",
       "        text-align: right;\n",
       "    }\n",
       "</style>\n",
       "<table border=\"1\" class=\"dataframe\">\n",
       "  <thead>\n",
       "    <tr style=\"text-align: right;\">\n",
       "      <th></th>\n",
       "      <th>age</th>\n",
       "      <th>workclass</th>\n",
       "      <th>fnlwgt</th>\n",
       "      <th>education</th>\n",
       "      <th>educational-num</th>\n",
       "      <th>marital-status</th>\n",
       "      <th>occupation</th>\n",
       "      <th>relationship</th>\n",
       "      <th>race</th>\n",
       "      <th>gender</th>\n",
       "      <th>capital-gain</th>\n",
       "      <th>capital-loss</th>\n",
       "      <th>hours-per-week</th>\n",
       "      <th>native-country</th>\n",
       "      <th>income</th>\n",
       "    </tr>\n",
       "  </thead>\n",
       "  <tbody>\n",
       "    <tr>\n",
       "      <th>0</th>\n",
       "      <td>25</td>\n",
       "      <td>Private</td>\n",
       "      <td>226802</td>\n",
       "      <td>11th</td>\n",
       "      <td>7</td>\n",
       "      <td>Never-married</td>\n",
       "      <td>Machine-op-inspct</td>\n",
       "      <td>Own-child</td>\n",
       "      <td>Black</td>\n",
       "      <td>Male</td>\n",
       "      <td>0</td>\n",
       "      <td>0</td>\n",
       "      <td>40</td>\n",
       "      <td>United-States</td>\n",
       "      <td>&lt;=50K</td>\n",
       "    </tr>\n",
       "    <tr>\n",
       "      <th>1</th>\n",
       "      <td>38</td>\n",
       "      <td>Private</td>\n",
       "      <td>89814</td>\n",
       "      <td>HS-grad</td>\n",
       "      <td>9</td>\n",
       "      <td>Married-civ-spouse</td>\n",
       "      <td>Farming-fishing</td>\n",
       "      <td>Husband</td>\n",
       "      <td>White</td>\n",
       "      <td>Male</td>\n",
       "      <td>0</td>\n",
       "      <td>0</td>\n",
       "      <td>50</td>\n",
       "      <td>United-States</td>\n",
       "      <td>&lt;=50K</td>\n",
       "    </tr>\n",
       "    <tr>\n",
       "      <th>2</th>\n",
       "      <td>28</td>\n",
       "      <td>Local-gov</td>\n",
       "      <td>336951</td>\n",
       "      <td>Assoc-acdm</td>\n",
       "      <td>12</td>\n",
       "      <td>Married-civ-spouse</td>\n",
       "      <td>Protective-serv</td>\n",
       "      <td>Husband</td>\n",
       "      <td>White</td>\n",
       "      <td>Male</td>\n",
       "      <td>0</td>\n",
       "      <td>0</td>\n",
       "      <td>40</td>\n",
       "      <td>United-States</td>\n",
       "      <td>&gt;50K</td>\n",
       "    </tr>\n",
       "    <tr>\n",
       "      <th>3</th>\n",
       "      <td>44</td>\n",
       "      <td>Private</td>\n",
       "      <td>160323</td>\n",
       "      <td>Some-college</td>\n",
       "      <td>10</td>\n",
       "      <td>Married-civ-spouse</td>\n",
       "      <td>Machine-op-inspct</td>\n",
       "      <td>Husband</td>\n",
       "      <td>Black</td>\n",
       "      <td>Male</td>\n",
       "      <td>7688</td>\n",
       "      <td>0</td>\n",
       "      <td>40</td>\n",
       "      <td>United-States</td>\n",
       "      <td>&gt;50K</td>\n",
       "    </tr>\n",
       "    <tr>\n",
       "      <th>4</th>\n",
       "      <td>18</td>\n",
       "      <td>?</td>\n",
       "      <td>103497</td>\n",
       "      <td>Some-college</td>\n",
       "      <td>10</td>\n",
       "      <td>Never-married</td>\n",
       "      <td>?</td>\n",
       "      <td>Own-child</td>\n",
       "      <td>White</td>\n",
       "      <td>Female</td>\n",
       "      <td>0</td>\n",
       "      <td>0</td>\n",
       "      <td>30</td>\n",
       "      <td>United-States</td>\n",
       "      <td>&lt;=50K</td>\n",
       "    </tr>\n",
       "  </tbody>\n",
       "</table>\n",
       "</div>"
      ],
      "text/plain": [
       "   age  workclass  fnlwgt     education  educational-num      marital-status  \\\n",
       "0   25    Private  226802          11th                7       Never-married   \n",
       "1   38    Private   89814       HS-grad                9  Married-civ-spouse   \n",
       "2   28  Local-gov  336951    Assoc-acdm               12  Married-civ-spouse   \n",
       "3   44    Private  160323  Some-college               10  Married-civ-spouse   \n",
       "4   18          ?  103497  Some-college               10       Never-married   \n",
       "\n",
       "          occupation relationship   race  gender  capital-gain  capital-loss  \\\n",
       "0  Machine-op-inspct    Own-child  Black    Male             0             0   \n",
       "1    Farming-fishing      Husband  White    Male             0             0   \n",
       "2    Protective-serv      Husband  White    Male             0             0   \n",
       "3  Machine-op-inspct      Husband  Black    Male          7688             0   \n",
       "4                  ?    Own-child  White  Female             0             0   \n",
       "\n",
       "   hours-per-week native-country income  \n",
       "0              40  United-States  <=50K  \n",
       "1              50  United-States  <=50K  \n",
       "2              40  United-States   >50K  \n",
       "3              40  United-States   >50K  \n",
       "4              30  United-States  <=50K  "
      ]
     },
     "execution_count": 4,
     "metadata": {},
     "output_type": "execute_result"
    }
   ],
   "source": [
    "datos.head()"
   ]
  },
  {
   "cell_type": "markdown",
   "id": "5f62cb2d",
   "metadata": {},
   "source": [
    "# DESCRPCIÓN"
   ]
  },
  {
   "cell_type": "code",
   "execution_count": 5,
   "id": "93b9106a",
   "metadata": {},
   "outputs": [
    {
     "name": "stdout",
     "output_type": "stream",
     "text": [
      "Variables numéricas:  ['age', 'fnlwgt', 'educational-num', 'capital-gain', 'capital-loss', 'hours-per-week']\n",
      "Variables categóricas:  ['workclass', 'education', 'marital-status', 'occupation', 'relationship', 'race', 'gender', 'native-country', 'income']\n"
     ]
    }
   ],
   "source": [
    "#Empezamos viendo que variables son numericas y cuales son categoricas. \n",
    "numer_var = (datos.dtypes[datos.dtypes!='object'].index.to_list())\n",
    "cate_var = (datos.dtypes[datos.dtypes=='object'].index.to_list())\n",
    "\n",
    "print('Variables numéricas: ', numer_var)\n",
    "print('Variables categóricas: ', cate_var)"
   ]
  },
  {
   "cell_type": "code",
   "execution_count": 6,
   "id": "9beeb56f",
   "metadata": {
    "scrolled": true
   },
   "outputs": [
    {
     "data": {
      "text/html": [
       "<div>\n",
       "<style scoped>\n",
       "    .dataframe tbody tr th:only-of-type {\n",
       "        vertical-align: middle;\n",
       "    }\n",
       "\n",
       "    .dataframe tbody tr th {\n",
       "        vertical-align: top;\n",
       "    }\n",
       "\n",
       "    .dataframe thead th {\n",
       "        text-align: right;\n",
       "    }\n",
       "</style>\n",
       "<table border=\"1\" class=\"dataframe\">\n",
       "  <thead>\n",
       "    <tr style=\"text-align: right;\">\n",
       "      <th></th>\n",
       "      <th>age</th>\n",
       "      <th>fnlwgt</th>\n",
       "      <th>educational-num</th>\n",
       "      <th>capital-gain</th>\n",
       "      <th>capital-loss</th>\n",
       "      <th>hours-per-week</th>\n",
       "    </tr>\n",
       "  </thead>\n",
       "  <tbody>\n",
       "    <tr>\n",
       "      <th>count</th>\n",
       "      <td>48842.000000</td>\n",
       "      <td>4.884200e+04</td>\n",
       "      <td>48842.000000</td>\n",
       "      <td>48842.000000</td>\n",
       "      <td>48842.000000</td>\n",
       "      <td>48842.000000</td>\n",
       "    </tr>\n",
       "    <tr>\n",
       "      <th>mean</th>\n",
       "      <td>38.643585</td>\n",
       "      <td>1.896641e+05</td>\n",
       "      <td>10.078089</td>\n",
       "      <td>1079.067626</td>\n",
       "      <td>87.502314</td>\n",
       "      <td>40.422382</td>\n",
       "    </tr>\n",
       "    <tr>\n",
       "      <th>std</th>\n",
       "      <td>13.710510</td>\n",
       "      <td>1.056040e+05</td>\n",
       "      <td>2.570973</td>\n",
       "      <td>7452.019058</td>\n",
       "      <td>403.004552</td>\n",
       "      <td>12.391444</td>\n",
       "    </tr>\n",
       "    <tr>\n",
       "      <th>min</th>\n",
       "      <td>17.000000</td>\n",
       "      <td>1.228500e+04</td>\n",
       "      <td>1.000000</td>\n",
       "      <td>0.000000</td>\n",
       "      <td>0.000000</td>\n",
       "      <td>1.000000</td>\n",
       "    </tr>\n",
       "    <tr>\n",
       "      <th>25%</th>\n",
       "      <td>28.000000</td>\n",
       "      <td>1.175505e+05</td>\n",
       "      <td>9.000000</td>\n",
       "      <td>0.000000</td>\n",
       "      <td>0.000000</td>\n",
       "      <td>40.000000</td>\n",
       "    </tr>\n",
       "    <tr>\n",
       "      <th>50%</th>\n",
       "      <td>37.000000</td>\n",
       "      <td>1.781445e+05</td>\n",
       "      <td>10.000000</td>\n",
       "      <td>0.000000</td>\n",
       "      <td>0.000000</td>\n",
       "      <td>40.000000</td>\n",
       "    </tr>\n",
       "    <tr>\n",
       "      <th>75%</th>\n",
       "      <td>48.000000</td>\n",
       "      <td>2.376420e+05</td>\n",
       "      <td>12.000000</td>\n",
       "      <td>0.000000</td>\n",
       "      <td>0.000000</td>\n",
       "      <td>45.000000</td>\n",
       "    </tr>\n",
       "    <tr>\n",
       "      <th>max</th>\n",
       "      <td>90.000000</td>\n",
       "      <td>1.490400e+06</td>\n",
       "      <td>16.000000</td>\n",
       "      <td>99999.000000</td>\n",
       "      <td>4356.000000</td>\n",
       "      <td>99.000000</td>\n",
       "    </tr>\n",
       "  </tbody>\n",
       "</table>\n",
       "</div>"
      ],
      "text/plain": [
       "                age        fnlwgt  educational-num  capital-gain  \\\n",
       "count  48842.000000  4.884200e+04     48842.000000  48842.000000   \n",
       "mean      38.643585  1.896641e+05        10.078089   1079.067626   \n",
       "std       13.710510  1.056040e+05         2.570973   7452.019058   \n",
       "min       17.000000  1.228500e+04         1.000000      0.000000   \n",
       "25%       28.000000  1.175505e+05         9.000000      0.000000   \n",
       "50%       37.000000  1.781445e+05        10.000000      0.000000   \n",
       "75%       48.000000  2.376420e+05        12.000000      0.000000   \n",
       "max       90.000000  1.490400e+06        16.000000  99999.000000   \n",
       "\n",
       "       capital-loss  hours-per-week  \n",
       "count  48842.000000    48842.000000  \n",
       "mean      87.502314       40.422382  \n",
       "std      403.004552       12.391444  \n",
       "min        0.000000        1.000000  \n",
       "25%        0.000000       40.000000  \n",
       "50%        0.000000       40.000000  \n",
       "75%        0.000000       45.000000  \n",
       "max     4356.000000       99.000000  "
      ]
     },
     "execution_count": 6,
     "metadata": {},
     "output_type": "execute_result"
    }
   ],
   "source": [
    "#Analizamos los datos estadísticos de las variables numéricas.\n",
    "datos.describe()"
   ]
  },
  {
   "cell_type": "code",
   "execution_count": 7,
   "id": "4c07ba88",
   "metadata": {},
   "outputs": [
    {
     "name": "stdout",
     "output_type": "stream",
     "text": [
      "Número total de personas: 48842\n",
      "Personas que ganan mas de 50k: 11687\n",
      "Personas que ganan menos de 50k: 37155\n"
     ]
    }
   ],
   "source": [
    "#Filtramos para ver cuales son las personas que superan en 50k sus ganancias anuales, y cuales no.\n",
    "datos_pers = datos.shape[0]\n",
    "\n",
    "datos_ma50 = len(datos[datos['income']=='>50K'])\n",
    "\n",
    "datos_me50 = len(datos[datos['income']=='<=50K'])\n",
    "\n",
    "# Print the results\n",
    "print(\"Número total de personas: {}\".format(datos_pers))\n",
    "print(\"Personas que ganan mas de 50k: {}\".format(datos_ma50))\n",
    "print(\"Personas que ganan menos de 50k: {}\".format(datos_me50))"
   ]
  },
  {
   "cell_type": "markdown",
   "id": "3d61926e",
   "metadata": {},
   "source": [
    "Ahora vamos a ver las opciones que tiene cada variable categórica."
   ]
  },
  {
   "cell_type": "code",
   "execution_count": 8,
   "id": "7ed2f0bb",
   "metadata": {},
   "outputs": [
    {
     "data": {
      "text/plain": [
       "array(['Private', 'Local-gov', '?', 'Self-emp-not-inc', 'Federal-gov',\n",
       "       'State-gov', 'Self-emp-inc', 'Without-pay', 'Never-worked'],\n",
       "      dtype=object)"
      ]
     },
     "execution_count": 8,
     "metadata": {},
     "output_type": "execute_result"
    }
   ],
   "source": [
    "pd.unique(datos['workclass'])"
   ]
  },
  {
   "cell_type": "code",
   "execution_count": 9,
   "id": "a0077601",
   "metadata": {},
   "outputs": [
    {
     "data": {
      "text/plain": [
       "array(['11th', 'HS-grad', 'Assoc-acdm', 'Some-college', '10th',\n",
       "       'Prof-school', '7th-8th', 'Bachelors', 'Masters', 'Doctorate',\n",
       "       '5th-6th', 'Assoc-voc', '9th', '12th', '1st-4th', 'Preschool'],\n",
       "      dtype=object)"
      ]
     },
     "execution_count": 9,
     "metadata": {},
     "output_type": "execute_result"
    }
   ],
   "source": [
    "pd.unique(datos['education'])"
   ]
  },
  {
   "cell_type": "code",
   "execution_count": 10,
   "id": "3bcb6be5",
   "metadata": {},
   "outputs": [
    {
     "data": {
      "text/plain": [
       "array(['Never-married', 'Married-civ-spouse', 'Widowed', 'Divorced',\n",
       "       'Separated', 'Married-spouse-absent', 'Married-AF-spouse'],\n",
       "      dtype=object)"
      ]
     },
     "execution_count": 10,
     "metadata": {},
     "output_type": "execute_result"
    }
   ],
   "source": [
    "pd.unique(datos['marital-status'])"
   ]
  },
  {
   "cell_type": "code",
   "execution_count": 11,
   "id": "75ce0d36",
   "metadata": {},
   "outputs": [
    {
     "data": {
      "text/plain": [
       "array(['Machine-op-inspct', 'Farming-fishing', 'Protective-serv', '?',\n",
       "       'Other-service', 'Prof-specialty', 'Craft-repair', 'Adm-clerical',\n",
       "       'Exec-managerial', 'Tech-support', 'Sales', 'Priv-house-serv',\n",
       "       'Transport-moving', 'Handlers-cleaners', 'Armed-Forces'],\n",
       "      dtype=object)"
      ]
     },
     "execution_count": 11,
     "metadata": {},
     "output_type": "execute_result"
    }
   ],
   "source": [
    "pd.unique(datos['occupation'])"
   ]
  },
  {
   "cell_type": "code",
   "execution_count": 12,
   "id": "11d5c703",
   "metadata": {},
   "outputs": [
    {
     "data": {
      "text/plain": [
       "array(['Own-child', 'Husband', 'Not-in-family', 'Unmarried', 'Wife',\n",
       "       'Other-relative'], dtype=object)"
      ]
     },
     "execution_count": 12,
     "metadata": {},
     "output_type": "execute_result"
    }
   ],
   "source": [
    "pd.unique(datos['relationship'])"
   ]
  },
  {
   "cell_type": "code",
   "execution_count": 13,
   "id": "c3633651",
   "metadata": {},
   "outputs": [
    {
     "data": {
      "text/plain": [
       "array(['Black', 'White', 'Asian-Pac-Islander', 'Other',\n",
       "       'Amer-Indian-Eskimo'], dtype=object)"
      ]
     },
     "execution_count": 13,
     "metadata": {},
     "output_type": "execute_result"
    }
   ],
   "source": [
    "pd.unique(datos['race'])"
   ]
  },
  {
   "cell_type": "code",
   "execution_count": 14,
   "id": "6bb676d1",
   "metadata": {},
   "outputs": [
    {
     "data": {
      "text/plain": [
       "array(['Male', 'Female'], dtype=object)"
      ]
     },
     "execution_count": 14,
     "metadata": {},
     "output_type": "execute_result"
    }
   ],
   "source": [
    "pd.unique(datos['gender'])"
   ]
  },
  {
   "cell_type": "code",
   "execution_count": 15,
   "id": "b9c19b95",
   "metadata": {},
   "outputs": [
    {
     "data": {
      "text/plain": [
       "array(['United-States', '?', 'Peru', 'Guatemala', 'Mexico',\n",
       "       'Dominican-Republic', 'Ireland', 'Germany', 'Philippines',\n",
       "       'Thailand', 'Haiti', 'El-Salvador', 'Puerto-Rico', 'Vietnam',\n",
       "       'South', 'Columbia', 'Japan', 'India', 'Cambodia', 'Poland',\n",
       "       'Laos', 'England', 'Cuba', 'Taiwan', 'Italy', 'Canada', 'Portugal',\n",
       "       'China', 'Nicaragua', 'Honduras', 'Iran', 'Scotland', 'Jamaica',\n",
       "       'Ecuador', 'Yugoslavia', 'Hungary', 'Hong', 'Greece',\n",
       "       'Trinadad&Tobago', 'Outlying-US(Guam-USVI-etc)', 'France',\n",
       "       'Holand-Netherlands'], dtype=object)"
      ]
     },
     "execution_count": 15,
     "metadata": {},
     "output_type": "execute_result"
    }
   ],
   "source": [
    "pd.unique(datos['native-country'])"
   ]
  },
  {
   "cell_type": "code",
   "execution_count": 16,
   "id": "28f38c7c",
   "metadata": {},
   "outputs": [
    {
     "data": {
      "text/plain": [
       "array(['<=50K', '>50K'], dtype=object)"
      ]
     },
     "execution_count": 16,
     "metadata": {},
     "output_type": "execute_result"
    }
   ],
   "source": [
    "pd.unique(datos['income'])"
   ]
  },
  {
   "cell_type": "markdown",
   "id": "ffa379fa",
   "metadata": {},
   "source": [
    "Como podemos ver, primero de todo hemos dividido las variables en variables númericas y variables categióricas. \n",
    "\n",
    "Las *variables númericas* tendran valores continuas, y son las siguientes:\n",
    "- **age**\n",
    "- **fnlwgt**\n",
    "- **educational-num**\n",
    "- **capital-gain**\n",
    "- **capital-loss**\n",
    "- **hours-per-week**\n",
    "\n",
    "Las *variables categóricas* identificadas son las siguientes, y cada una con sus posibles valores:\n",
    "- **workclass**:  'Private', 'Local-gov', '?', 'Self-emp-not-inc', 'Federal-gov','State-gov', 'Self-emp-inc', 'Without-pay', 'Never-worked'\n",
    "- **education**: '11th', 'HS-grad', 'Assoc-acdm', 'Some-college', '10th', 'Prof-school', '7th-8th', 'Bachelors', 'Masters', 'Doctorate', '5th-6th', 'Assoc-voc', '9th', '12th', '1st-4th', 'Preschool'\n",
    "- **marital-status**: 'Never-married', 'Married-civ-spouse', 'Widowed', 'Divorced', 'Separated', 'Married-spouse-absent', 'Married-AF-spouse'\n",
    "- **occupation**: 'Machine-op-inspct', 'Farming-fishing', 'Protective-serv', '?', 'Other-service', 'Prof-specialty', 'Craft-repair', 'Adm-clerical', 'Exec-managerial', 'Tech-support', 'Sales', 'Priv-house-serv', 'Transport-moving', 'Handlers-cleaners', 'Armed-Forces'\n",
    "- **relationship**: 'Own-child', 'Husband', 'Not-in-family', 'Unmarried', 'Wife', 'Other-relative'\n",
    "- **race**: 'Black', 'White', 'Asian-Pac-Islander', 'Other', 'Amer-Indian-Eskimo'\n",
    "- **gender**: 'Male', 'Female'\n",
    "- **native-country**: 'United-States', '?', 'Peru', 'Guatemala', 'Mexico', 'Dominican-Republic', 'Ireland', 'Germany', 'Philippines', 'Thailand', 'Haiti', 'El-Salvador', 'Puerto-Rico', 'Vietnam', 'South', 'Columbia', 'Japan', 'India', 'Cambodia', 'Poland', 'Laos', 'England', 'Cuba', 'Taiwan', 'Italy', 'Canada', 'Portugal', 'China', 'Nicaragua', 'Honduras', 'Iran', 'Scotland', 'Jamaica', 'Ecuador', 'Yugoslavia', 'Hungary', 'Hong', 'Greece', 'Trinadad&Tobago', 'Outlying-US(Guam-USVI-etc)', 'France', 'Holand-Netherlands'\n",
    "- **income**: '<=50K', '>50K'"
   ]
  },
  {
   "cell_type": "markdown",
   "id": "8e7484bc",
   "metadata": {},
   "source": [
    "## Preprocesamiento"
   ]
  },
  {
   "cell_type": "code",
   "execution_count": 17,
   "id": "0e5fad38",
   "metadata": {},
   "outputs": [],
   "source": [
    "# Empezamos pos sustituir las variables categóricas con valores numéricos\n",
    "datos.income.replace({\"<=50K\":1, \">50K\":2},inplace=True)\n",
    "\n",
    "datos.workclass.replace({'Private':1, 'Local-gov':2, '?':0, 'Self-emp-not-inc':3, 'Federal-gov':4,'State-gov':5, \n",
    "                      'Self-emp-inc':6, 'Without-pay':7, 'Never-worked':8},inplace=True)\n",
    "\n",
    "datos.education.replace({'11th':1, 'HS-grad':2, 'Assoc-acdm':3, 'Some-college':4, '10th':5, 'Prof-school':6, '7th-8th':7, \n",
    "                      'Bachelors':8, 'Masters':9, 'Doctorate':10, '5th-6th':11, 'Assoc-voc':12, '9th':13, '12th':14, \n",
    "                      '1st-4th':15, 'Preschool':16},inplace=True)\n",
    "\n",
    "datos.occupation.replace({'Machine-op-inspct':1, 'Farming-fishing':2, 'Protective-serv':3, '?':0, 'Other-service':4, \n",
    "                          'Prof-specialty':5, 'Craft-repair':6, 'Adm-clerical':7, 'Exec-managerial':8, \n",
    "                          'Tech-support':9, 'Sales':10, 'Priv-house-serv':11, 'Transport-moving':12, 'Handlers-cleaners':13, \n",
    "                          'Armed-Forces':14},inplace=True)\n",
    "\n",
    "datos.relationship.replace({'Own-child':1, 'Husband':2, 'Not-in-family':3, 'Unmarried':4, 'Wife':5, 'Other-relative':6},inplace=True)\n",
    "\n",
    "datos.race.replace({'Black':1, 'White':2, 'Asian-Pac-Islander':3, 'Other':4, 'Amer-Indian-Eskimo':5},inplace=True)\n",
    "\n",
    "datos.gender.replace({\"Male\":1, \"Female\":2},inplace=True)\n",
    "\n",
    "n1 = {'Never-married':1, 'Married-civ-spouse':2, 'Widowed':3, 'Divorced':4, 'Separated':5, \n",
    "                      'Married-spouse-absent':6, 'Married-AF-spouse':7}\n",
    "datos['marital-status'] = datos['marital-status'].replace(n1)\n",
    "\n",
    "n2 = {'United-States':1, '?':0, 'Peru':2, 'Guatemala':3, 'Mexico':4, 'Dominican-Republic':5, \n",
    "                              'Ireland':6, 'Germany':7, 'Philippines':8, 'Thailand':9, 'Haiti':10, 'El-Salvador':11, \n",
    "                              'Puerto-Rico':12, 'Vietnam':13, 'South':14, 'Columbia':15, 'Japan':16, 'India':17, 'Cambodia':18, \n",
    "                              'Poland':19, 'Laos':20, 'England':21, 'Cuba':22, 'Taiwan':23, 'Italy':24, 'Canada':25, 'Portugal':26, \n",
    "                              'China':27, 'Nicaragua':28, 'Honduras':29, 'Iran':30, 'Scotland':31, 'Jamaica':32, 'Ecuador':33, \n",
    "                              'Yugoslavia':34, 'Hungary':35, 'Hong':36, 'Greece':37, 'Trinadad&Tobago':38, \n",
    "                              'Outlying-US(Guam-USVI-etc)':39, 'France':40, 'Holand-Netherlands':41}\n",
    "datos['native-country'] = datos['native-country'].replace(n2)"
   ]
  },
  {
   "cell_type": "code",
   "execution_count": 18,
   "id": "29f1ad3b",
   "metadata": {},
   "outputs": [
    {
     "data": {
      "text/plain": [
       "1    37155\n",
       "2    11687\n",
       "Name: income, dtype: int64"
      ]
     },
     "execution_count": 18,
     "metadata": {},
     "output_type": "execute_result"
    }
   ],
   "source": [
    "datos['income'].value_counts()"
   ]
  },
  {
   "cell_type": "code",
   "execution_count": 19,
   "id": "ed0c3c39",
   "metadata": {
    "scrolled": false
   },
   "outputs": [
    {
     "name": "stdout",
     "output_type": "stream",
     "text": [
      "1    76.071823\n",
      "2    23.928177\n",
      "Name: income, dtype: float64\n"
     ]
    },
    {
     "data": {
      "text/plain": [
       "Text(0, 0.5, 'Frecuencia')"
      ]
     },
     "execution_count": 19,
     "metadata": {},
     "output_type": "execute_result"
    },
    {
     "data": {
      "image/png": "[encoded data removed]",
      "text/plain": [
       "<Figure size 1008x576 with 1 Axes>"
      ]
     },
     "metadata": {
      "needs_background": "light"
     },
     "output_type": "display_data"
    }
   ],
   "source": [
    "print(datos['income'].value_counts()/sum(datos['income'].value_counts())*100)\n",
    "ax = datos['income'].value_counts().plot(kind='bar',\n",
    "                                    figsize=(14,8),\n",
    "                                    title=\"Total de ingresos anuales\", color=[\"lightblue\",\"lightpink\"])\n",
    "ax.set_ylabel(\"Frecuencia\")"
   ]
  },
  {
   "cell_type": "markdown",
   "id": "e804f9fa",
   "metadata": {},
   "source": [
    "Como podemos observar en la gráfica de arriba, existe una desproporción entre las familias que ganan más de 50k al año y aquellas que ganan menos. Para poder analizar los datos de una formas mas precisa, vamos a dividir los conjuntos de entrenamiento y validación de forma, porque de lo contrario, es posible que la gran parte de un tipo de hogar estén en un mismo subgrupo."
   ]
  },
  {
   "cell_type": "code",
   "execution_count": 20,
   "id": "deaf29ac",
   "metadata": {
    "scrolled": false
   },
   "outputs": [
    {
     "data": {
      "text/plain": [
       "income             1.000000\n",
       "educational-num    0.332613\n",
       "hours-per-week     0.227687\n",
       "capital-gain       0.223013\n",
       "education          0.160178\n",
       "workclass          0.153261\n",
       "capital-loss       0.147554\n",
       "occupation         0.075196\n",
       "race               0.032272\n",
       "native-country    -0.001382\n",
       "marital-status    -0.003602\n",
       "fnlwgt            -0.006339\n",
       "relationship      -0.060166\n",
       "gender            -0.214628\n",
       "Name: income, dtype: float64"
      ]
     },
     "execution_count": 20,
     "metadata": {},
     "output_type": "execute_result"
    }
   ],
   "source": [
    "datos[datos.columns[1:]].corr()['income'][:].sort_values(ascending=False)"
   ]
  },
  {
   "cell_type": "markdown",
   "id": "d15b7522",
   "metadata": {},
   "source": [
    "Podemos ver como ninguna de las variables esta correlacionada con la variable *income*, significando que son independientes entre ellas."
   ]
  },
  {
   "cell_type": "code",
   "execution_count": 21,
   "id": "7b77ecb7",
   "metadata": {},
   "outputs": [],
   "source": [
    "num = ['age', 'fnlwgt', 'educational-num', 'capital-gain', 'capital-loss', 'hours-per-week','workclass', 'education', 'marital-status', 'occupation', 'relationship', 'race', 'gender', 'native-country', 'income']\n",
    "datos = datos[num].astype(int)"
   ]
  },
  {
   "cell_type": "code",
   "execution_count": 22,
   "id": "8f4ea6ec",
   "metadata": {},
   "outputs": [
    {
     "name": "stdout",
     "output_type": "stream",
     "text": [
      "El conjunto de entrenamiento tiene 34189 ejemplos.\n",
      "El conjunto de validación tiene 14653 ejemplos.\n"
     ]
    }
   ],
   "source": [
    "#usamos esto para dividir el conjunto de train y el de test\n",
    "\n",
    "income = ['income']\n",
    "\n",
    "X = datos.drop(income,axis=1)\n",
    "Y = datos[income]\n",
    "\n",
    "x_train, x_test, y_train, y_test = train_test_split(X, Y, test_size=0.30, random_state=0)\n",
    "\n",
    "print(\"El conjunto de entrenamiento tiene {} ejemplos.\".format(x_train.shape[0]))\n",
    "print(\"El conjunto de validación tiene {} ejemplos.\".format(x_test.shape[0]))"
   ]
  },
  {
   "cell_type": "code",
   "execution_count": 23,
   "id": "dbef77c2",
   "metadata": {},
   "outputs": [
    {
     "name": "stdout",
     "output_type": "stream",
     "text": [
      "(14653, 14)\n",
      "1    76.011738\n",
      "2    23.988262\n",
      "Name: income, dtype: float64\n"
     ]
    },
    {
     "data": {
      "text/plain": [
       "income\n",
       "1         11138\n",
       "2          3515\n",
       "dtype: int64"
      ]
     },
     "execution_count": 23,
     "metadata": {},
     "output_type": "execute_result"
    }
   ],
   "source": [
    "# conjunto de validación\n",
    "print(x_test.shape)\n",
    "\n",
    "print(y_test['income'].value_counts()/sum(y_test['income'].value_counts())*100)\n",
    "y_test.value_counts()"
   ]
  },
  {
   "cell_type": "code",
   "execution_count": 24,
   "id": "f82ac362",
   "metadata": {},
   "outputs": [
    {
     "name": "stdout",
     "output_type": "stream",
     "text": [
      "(34189, 14)\n",
      "1    76.097575\n",
      "2    23.902425\n",
      "Name: income, dtype: float64\n"
     ]
    },
    {
     "data": {
      "text/plain": [
       "income\n",
       "1         26017\n",
       "2          8172\n",
       "dtype: int64"
      ]
     },
     "execution_count": 24,
     "metadata": {},
     "output_type": "execute_result"
    }
   ],
   "source": [
    "# conjunto de entrenamiento\n",
    "print(x_train.shape)\n",
    "\n",
    "print(y_train['income'].value_counts()/sum(y_train['income'].value_counts())*100)\n",
    "y_train.value_counts()"
   ]
  },
  {
   "cell_type": "markdown",
   "id": "c642e238",
   "metadata": {},
   "source": [
    "Al dividirlo, podemos ver como se mantiene la proporcion en cada conjunto del total de ingresos de cada hogar, el 76% tiene menos de 50k ingresos anuales versus el 24% que tiene más, por lo que se mantiene la distribución inicial, pero los datos estan mas repartidos. "
   ]
  },
  {
   "cell_type": "markdown",
   "id": "8ccdffe5",
   "metadata": {},
   "source": [
    "# MODELO DESCRIPTIVO"
   ]
  },
  {
   "cell_type": "markdown",
   "id": "fa4b7ed5",
   "metadata": {},
   "source": [
    "A continuación probaremos distintos modelos con el objetivo de encontrar el más adecuado para solventar el problema, en concreto usaremos 4 modelos:\n",
    "\n",
    "- Random Forest\n",
    "- Gradient Boosting\n",
    "- Árbol de decision simple\n",
    "- XGBoost"
   ]
  },
  {
   "cell_type": "markdown",
   "id": "9f107dee",
   "metadata": {},
   "source": [
    "### Random Forest"
   ]
  },
  {
   "cell_type": "code",
   "execution_count": 25,
   "id": "d3e22ae9",
   "metadata": {},
   "outputs": [
    {
     "name": "stdout",
     "output_type": "stream",
     "text": [
      "Training Features Shape: (34189, 14)\n",
      "Training Labels Shape: (34189, 1)\n",
      "Testing Features Shape: (14653, 14)\n",
      "Testing Labels Shape: (14653, 1)\n"
     ]
    }
   ],
   "source": [
    "print('Training Features Shape:', x_train.shape)\n",
    "print('Training Labels Shape:', y_train.shape)\n",
    "print('Testing Features Shape:', x_test.shape)\n",
    "print('Testing Labels Shape:', y_test.shape)"
   ]
  },
  {
   "cell_type": "markdown",
   "id": "3b23f32d",
   "metadata": {},
   "source": [
    "Importamos el modelo de regresión de Random Forest de scikit-learn, metemos el modelo y ajustamos el modelo en los datos de entrenamiento."
   ]
  },
  {
   "cell_type": "code",
   "execution_count": 26,
   "id": "6f1fdc8e",
   "metadata": {},
   "outputs": [
    {
     "data": {
      "text/plain": [
       "RandomForestRegressor(n_estimators=1000, random_state=42)"
      ]
     },
     "execution_count": 26,
     "metadata": {},
     "output_type": "execute_result"
    }
   ],
   "source": [
    "from sklearn.ensemble import RandomForestRegressor\n",
    "rfr = RandomForestRegressor(n_estimators = 1000, random_state = 42)\n",
    "\n",
    "# Entrenar el modelo\n",
    "rfr.fit(x_train,y_train)"
   ]
  },
  {
   "cell_type": "markdown",
   "id": "1c3ea28f",
   "metadata": {},
   "source": [
    "Ahora hacemos predicciones sobre las características de los datos de validación. Luego, comparamos las predicciones con las respuestas anteriores. \n",
    "Al realizar la regresión, utilizamos el error absoluto, porque algunas de nuestras respuestas serán bajas y otras altas."
   ]
  },
  {
   "cell_type": "code",
   "execution_count": 27,
   "id": "1716b8b6",
   "metadata": {},
   "outputs": [
    {
     "name": "stdout",
     "output_type": "stream",
     "text": [
      "Error absoluto medio: income    0.19\n",
      "dtype: float64 degrees.\n"
     ]
    }
   ],
   "source": [
    "# Método de predicción del bosque en los datos de test\n",
    "pred = rfr.predict(x_test)\n",
    "\n",
    "# Calcular los errores absolutos\n",
    "pred = pred.reshape(14653,1)\n",
    "err = abs(pred - y_test)\n",
    "\n",
    "# Error absoluto medio\n",
    "print('Error absoluto medio:', round(np.mean(err), 2), 'degrees.')"
   ]
  },
  {
   "cell_type": "markdown",
   "id": "c3b81410",
   "metadata": {},
   "source": [
    "Para poner las predicciones en perspectiva, calculamos la precisión utilizando el error porcentual medio menos el 100 %."
   ]
  },
  {
   "cell_type": "code",
   "execution_count": 28,
   "id": "e76c6bbd",
   "metadata": {},
   "outputs": [
    {
     "name": "stdout",
     "output_type": "stream",
     "text": [
      "Accuracy: income    85.69\n",
      "dtype: float64 %.\n"
     ]
    }
   ],
   "source": [
    "# Calcular el error porcentual absoluto medio\n",
    "epam = 100 * (err / y_test)\n",
    "\n",
    "# Calcular la métrica de precisión\n",
    "acc = 100 - np.mean(epam)\n",
    "print('Accuracy:', round(acc, 2), '%.')"
   ]
  },
  {
   "cell_type": "markdown",
   "id": "3e9a76de",
   "metadata": {},
   "source": [
    "Podemos ver como nuestra métrica de exactitud es de un "
   ]
  },
  {
   "cell_type": "markdown",
   "id": "963eac01",
   "metadata": {},
   "source": [
    "### Arbol de decisión simple"
   ]
  },
  {
   "cell_type": "markdown",
   "id": "16032c95",
   "metadata": {},
   "source": [
    "Primero empezamos creando el modelo de árbol de decisión. Luego procedemos a generar las distintas métricas, y podemos ver como la de exactitud, que es de un 81.33%."
   ]
  },
  {
   "cell_type": "code",
   "execution_count": 29,
   "id": "01e2bf58",
   "metadata": {},
   "outputs": [
    {
     "name": "stdout",
     "output_type": "stream",
     "text": [
      "Métrica de exhaustividad: 0.8700843957622554\n",
      "Métrica de precisión:  0.8830872972480408\n",
      "Métrica de exactitud: 0.8136900293455265\n",
      "Score F1: 0.8765376266280752\n",
      "Área bajo la curva: 0.752538641693361\n"
     ]
    }
   ],
   "source": [
    "from sklearn import metrics \n",
    "\n",
    "# Crear objeto clasificador de árbol de decisión\n",
    "dtc = DecisionTreeClassifier()\n",
    "\n",
    "# Clasificador de árboles de decisión de train\n",
    "dtc = dtc.fit(x_train,y_train)\n",
    "\n",
    "# Predecir la respuesta para el conjunto de datos de prueba\n",
    "y_pred = dtc.predict(x_test)\n",
    "\n",
    "print(\"Métrica de exhaustividad:\",metrics.recall_score(y_test, y_pred))\n",
    "print(\"Métrica de precisión: \",metrics.precision_score(y_test, y_pred))\n",
    "print(\"Métrica de exactitud:\",metrics.accuracy_score(y_test, y_pred))\n",
    "print(\"Score F1:\",metrics.f1_score(y_test, y_pred))\n",
    "print(\"Área bajo la curva:\",metrics.roc_auc_score(y_test, y_pred))"
   ]
  },
  {
   "cell_type": "code",
   "execution_count": 30,
   "id": "49763cdf",
   "metadata": {},
   "outputs": [
    {
     "data": {
      "image/png": "[encoded data removed]",
      "text/plain": [
       "<Figure size 432x288 with 1 Axes>"
      ]
     },
     "metadata": {
      "needs_background": "light"
     },
     "output_type": "display_data"
    }
   ],
   "source": [
    "# Matriz de correlación\n",
    "cm = metrics.confusion_matrix(y_test, y_pred)\n",
    "\n",
    "plt.clf()\n",
    "plt.imshow(cm, interpolation='nearest', cmap=plt.cm.Wistia)\n",
    "class1 = ['Menos','Más']\n",
    "plt.title('Matriz de confusión más o menos ingresos anuales de 50k')\n",
    "plt.ylabel('True label')\n",
    "plt.xlabel('Predicted label')\n",
    "tick_marks = np.arange(len(class1))\n",
    "plt.xticks(tick_marks, class1, rotation=45)\n",
    "plt.yticks(tick_marks, class1)\n",
    "s = [['TN','FP'], ['FN', 'TP']]\n",
    "for i in range(2):\n",
    "    for j in range(2):\n",
    "        plt.text(j,i, str(s[i][j])+\" = \"+str(cm[i][j]))\n",
    "plt.show()"
   ]
  },
  {
   "cell_type": "markdown",
   "id": "f8a05731",
   "metadata": {},
   "source": [
    "Cuando analizamos la matriz de confusión, podemos ver que con este modelo hay muchos hogares que no ha conseguido identificar. La mayoria que identifica con los True Negative, que son aquellas familias que el modelo predice que tienen menos de 50k ingresos anueales y que en realidad sí que tienen menos de 50k ingresos anuales. "
   ]
  },
  {
   "cell_type": "markdown",
   "id": "b4a2abc8",
   "metadata": {},
   "source": [
    "### Gradient Boosting"
   ]
  },
  {
   "cell_type": "markdown",
   "id": "e69f5e63",
   "metadata": {},
   "source": [
    "Creamos el modelo y realizamos su entrenamiento. "
   ]
  },
  {
   "cell_type": "code",
   "execution_count": 31,
   "id": "f04521e4",
   "metadata": {},
   "outputs": [
    {
     "data": {
      "text/plain": [
       "GradientBoostingRegressor(max_features='auto', n_estimators=10,\n",
       "                          random_state=123)"
      ]
     },
     "execution_count": 31,
     "metadata": {},
     "output_type": "execute_result"
    }
   ],
   "source": [
    "modelo = GradientBoostingRegressor(\n",
    "            n_estimators = 10,\n",
    "            loss         = 'ls',\n",
    "            max_features = 'auto',\n",
    "            random_state = 123\n",
    "         )\n",
    "\n",
    "modelo.fit(x_train, y_train)"
   ]
  },
  {
   "cell_type": "markdown",
   "id": "6e65c532",
   "metadata": {},
   "source": [
    "Una vez entrenado el modelo, se evalúa la capacidad predictiva empleando el conjunto de test."
   ]
  },
  {
   "cell_type": "code",
   "execution_count": 32,
   "id": "9128ecec",
   "metadata": {},
   "outputs": [
    {
     "name": "stdout",
     "output_type": "stream",
     "text": [
      "El error (rmse) de test es: 0.35441283592103895\n"
     ]
    }
   ],
   "source": [
    "predicciones = modelo.predict(X = x_test)\n",
    "\n",
    "rmse = mean_squared_error(\n",
    "        y_true  = y_test,\n",
    "        y_pred  = predicciones,\n",
    "        squared = False\n",
    "       )\n",
    "print(f\"El error (rmse) de test es: {rmse}\")"
   ]
  },
  {
   "cell_type": "code",
   "execution_count": 33,
   "id": "ebefc77d",
   "metadata": {
    "scrolled": true
   },
   "outputs": [
    {
     "name": "stdout",
     "output_type": "stream",
     "text": [
      "Valor óptimo de n_estimators: 476\n"
     ]
    },
    {
     "data": {
      "image/png": "[encoded data removed]",
      "text/plain": [
       "<Figure size 432x276.48 with 1 Axes>"
      ]
     },
     "metadata": {
      "needs_background": "light"
     },
     "output_type": "display_data"
    }
   ],
   "source": [
    "# Validación empleando k-cross-validation y neg_root_mean_squared_error\n",
    "\n",
    "train_scores = []\n",
    "cv_scores    = []\n",
    "\n",
    "# Valores evaluados\n",
    "estimator_range = range(1, 500, 25)\n",
    "\n",
    "# Bucle para entrenar un modelo con cada valor de n_estimators y extraer su error\n",
    "# de entrenamiento y de k-cross-validation.\n",
    "for n_estimators in estimator_range:\n",
    "    \n",
    "    modelo = GradientBoostingRegressor(\n",
    "                n_estimators = n_estimators,\n",
    "                loss         = 'ls',\n",
    "                max_features = 'auto',\n",
    "                random_state = 123\n",
    "             )\n",
    "    \n",
    "    # Error de train\n",
    "    modelo.fit(x_train, y_train)\n",
    "    predicciones = modelo.predict(X = x_train)\n",
    "    rmse = mean_squared_error(\n",
    "            y_true  = y_train,\n",
    "            y_pred  = predicciones,\n",
    "            squared = False\n",
    "           )\n",
    "    train_scores.append(rmse)\n",
    "    \n",
    "    # Error de validación cruzada\n",
    "    scores = cross_val_score(\n",
    "                estimator = modelo,\n",
    "                X         = x_train,\n",
    "                y         = y_train,\n",
    "                scoring   = 'neg_root_mean_squared_error',\n",
    "                cv        = 5,\n",
    "                n_jobs    = multiprocessing.cpu_count() - 1,\n",
    "             )\n",
    "    # Se agregan los scores de cross_val_score() y se pasa a positivo\n",
    "    cv_scores.append(-1*scores.mean())\n",
    "    \n",
    "# Gráfico con la evolución de los errores\n",
    "fig, ax = plt.subplots(figsize=(6, 3.84))\n",
    "ax.plot(estimator_range, train_scores, label=\"train scores\")\n",
    "ax.plot(estimator_range, cv_scores, label=\"cv scores\")\n",
    "ax.plot(estimator_range[np.argmin(cv_scores)], min(cv_scores),\n",
    "        marker='o', color = \"red\", label=\"min score\")\n",
    "ax.set_ylabel(\"root_mean_squared_error\")\n",
    "ax.set_xlabel(\"n_estimators\")\n",
    "ax.set_title(\"Evolución del cv-error vs número árboles\")\n",
    "plt.legend();\n",
    "print(f\"Valor óptimo de n_estimators: {estimator_range[np.argmin(cv_scores)]}\")"
   ]
  },
  {
   "cell_type": "markdown",
   "id": "c192e3fc",
   "metadata": {},
   "source": [
    "Los valores estimados por validación cruzada muestran que, a partir de los 20 árboles, el error del modelo se estabiliza, consiguiendo un mínimo con 500 árboles. "
   ]
  },
  {
   "cell_type": "markdown",
   "id": "7c1126ca",
   "metadata": {},
   "source": [
    "### XGBoost"
   ]
  },
  {
   "cell_type": "code",
   "execution_count": 34,
   "id": "a6f0ba28",
   "metadata": {},
   "outputs": [],
   "source": [
    "from xgboost import XGBClassifier"
   ]
  },
  {
   "cell_type": "markdown",
   "id": "0737dd8c",
   "metadata": {},
   "source": [
    "*CONJUNTO DE ENTRENAMIENTO (TRAIN)*"
   ]
  },
  {
   "cell_type": "code",
   "execution_count": 35,
   "id": "99f05f6a",
   "metadata": {
    "scrolled": false
   },
   "outputs": [
    {
     "data": {
      "text/plain": [
       "XGBClassifier(base_score=0.5, booster='gbtree', callbacks=None,\n",
       "              colsample_bylevel=1, colsample_bynode=1, colsample_bytree=1,\n",
       "              early_stopping_rounds=None, enable_categorical=False,\n",
       "              eval_metric=None, gamma=0, gpu_id=-1, grow_policy='depthwise',\n",
       "              importance_type=None, interaction_constraints='',\n",
       "              learning_rate=0.300000012, max_bin=256, max_cat_to_onehot=4,\n",
       "              max_delta_step=0, max_depth=4, max_leaves=0, min_child_weight=1,\n",
       "              missing=nan, monotone_constraints='()', n_estimators=100,\n",
       "              n_jobs=0, num_parallel_tree=1, predictor='auto', random_state=0,\n",
       "              reg_alpha=0, reg_lambda=1, ...)"
      ]
     },
     "execution_count": 35,
     "metadata": {},
     "output_type": "execute_result"
    }
   ],
   "source": [
    "from sklearn.preprocessing import LabelEncoder\n",
    "le = LabelEncoder()\n",
    "y_train = le.fit_transform(y_train)\n",
    "\n",
    "modelo = XGBClassifier(subsample = 0.7, max_depth = 4)\n",
    "modelo.fit(x_train, y_train, eval_metric='rmse')"
   ]
  },
  {
   "cell_type": "code",
   "execution_count": 36,
   "id": "597bd1f6",
   "metadata": {},
   "outputs": [
    {
     "data": {
      "text/plain": [
       "0.8866302026967738"
      ]
     },
     "execution_count": 36,
     "metadata": {},
     "output_type": "execute_result"
    }
   ],
   "source": [
    "# Métrica de exactitud\n",
    "accuracy_score(y_train, modelo.predict(x_train))"
   ]
  },
  {
   "cell_type": "markdown",
   "id": "ecac1580",
   "metadata": {},
   "source": [
    "Por ahora, esta es el mayor porcentage de exatitud que hemos conseguido en los modelos, por lo que optimizaremos XGBoost para poder dar una solución a CharityML."
   ]
  },
  {
   "cell_type": "code",
   "execution_count": 37,
   "id": "0c277d7d",
   "metadata": {},
   "outputs": [
    {
     "data": {
      "text/plain": [
       "0.8125727590221188"
      ]
     },
     "execution_count": 37,
     "metadata": {},
     "output_type": "execute_result"
    }
   ],
   "source": [
    "# Métrica de precisión\n",
    "precision_score(y_train, modelo.predict(x_train))"
   ]
  },
  {
   "cell_type": "code",
   "execution_count": 38,
   "id": "9fcb7e2f",
   "metadata": {},
   "outputs": [
    {
     "data": {
      "text/plain": [
       "0.6833088595203133"
      ]
     },
     "execution_count": 38,
     "metadata": {},
     "output_type": "execute_result"
    }
   ],
   "source": [
    "# Métrica de exhaustividad\n",
    "recall_score(y_train, modelo.predict(x_train))"
   ]
  },
  {
   "cell_type": "code",
   "execution_count": 39,
   "id": "09a38e50",
   "metadata": {},
   "outputs": [
    {
     "data": {
      "text/plain": [
       "0.7423557564477533"
      ]
     },
     "execution_count": 39,
     "metadata": {},
     "output_type": "execute_result"
    }
   ],
   "source": [
    "#Score F1\n",
    "f1_score(y_train, modelo.predict(x_train))"
   ]
  },
  {
   "cell_type": "code",
   "execution_count": 40,
   "id": "0ce2626b",
   "metadata": {},
   "outputs": [
    {
     "data": {
      "text/plain": [
       "0.8169013836749047"
      ]
     },
     "execution_count": 40,
     "metadata": {},
     "output_type": "execute_result"
    }
   ],
   "source": [
    "# Área bajo la curva\n",
    "roc_auc_score(y_train, modelo.predict(x_train))\n",
    "# 0.7129048578859443"
   ]
  },
  {
   "cell_type": "code",
   "execution_count": 41,
   "id": "a3f8c10e",
   "metadata": {},
   "outputs": [
    {
     "data": {
      "text/plain": [
       "array([[24729,  1288],\n",
       "       [ 2588,  5584]])"
      ]
     },
     "execution_count": 41,
     "metadata": {},
     "output_type": "execute_result"
    }
   ],
   "source": [
    "# Matriz de confusión\n",
    "cm = confusion_matrix(y_train, modelo.predict(x_train))\n",
    "cm"
   ]
  },
  {
   "cell_type": "code",
   "execution_count": 42,
   "id": "e399a1b6",
   "metadata": {
    "scrolled": true
   },
   "outputs": [
    {
     "data": {
      "image/png": "[encoded data removed]",
      "text/plain": [
       "<Figure size 432x288 with 1 Axes>"
      ]
     },
     "metadata": {
      "needs_background": "light"
     },
     "output_type": "display_data"
    }
   ],
   "source": [
    "plt.clf()\n",
    "plt.imshow(cm, interpolation='nearest', cmap=plt.cm.Wistia)\n",
    "class1 = ['Menos','Más']\n",
    "plt.title('Matriz de confusión más o menos ingresos anuales de 50k')\n",
    "plt.ylabel('True label')\n",
    "plt.xlabel('Predicted label')\n",
    "tick_marks = np.arange(len(class1))\n",
    "plt.xticks(tick_marks, class1, rotation=45)\n",
    "plt.yticks(tick_marks, class1)\n",
    "s = [['TN','FP'], ['FN', 'TP']]\n",
    "for i in range(2):\n",
    "    for j in range(2):\n",
    "        plt.text(j,i, str(s[i][j])+\" = \"+str(cm[i][j]))\n",
    "plt.show()"
   ]
  },
  {
   "cell_type": "markdown",
   "id": "f1fd92c6",
   "metadata": {},
   "source": [
    "También podemos ver como en esta matriz de correlación aparecen muchos mas hogares, y se ha reducido el número de falsos positivos por casi 200."
   ]
  },
  {
   "cell_type": "markdown",
   "id": "b6d126ac",
   "metadata": {},
   "source": [
    "*CONJUNTO DE VALIDACIÓN (TEST)*"
   ]
  },
  {
   "cell_type": "code",
   "execution_count": 43,
   "id": "74f0d755",
   "metadata": {},
   "outputs": [
    {
     "data": {
      "text/plain": [
       "0.04497372551695898"
      ]
     },
     "execution_count": 43,
     "metadata": {},
     "output_type": "execute_result"
    }
   ],
   "source": [
    "# Métrica de exactitud\n",
    "accuracy_score(y_test, modelo.predict(x_test))"
   ]
  },
  {
   "cell_type": "code",
   "execution_count": 44,
   "id": "42979ace",
   "metadata": {},
   "outputs": [
    {
     "data": {
      "text/plain": [
       "0.7968746288320814"
      ]
     },
     "execution_count": 44,
     "metadata": {},
     "output_type": "execute_result"
    }
   ],
   "source": [
    "# Área bajo la curva\n",
    "roc_auc_score(y_test, modelo.predict(x_test))"
   ]
  },
  {
   "cell_type": "code",
   "execution_count": 45,
   "id": "8b2accfe",
   "metadata": {},
   "outputs": [
    {
     "data": {
      "text/plain": [
       "array([[    0,     0,     0],\n",
       "       [10479,   659,     0],\n",
       "       [ 1220,  2295,     0]])"
      ]
     },
     "execution_count": 45,
     "metadata": {},
     "output_type": "execute_result"
    }
   ],
   "source": [
    "# Matriz de confusión\n",
    "cm = confusion_matrix(y_test, modelo.predict(x_test))\n",
    "cm"
   ]
  },
  {
   "cell_type": "code",
   "execution_count": 46,
   "id": "f71bc4e4",
   "metadata": {
    "scrolled": true
   },
   "outputs": [
    {
     "data": {
      "image/png": "[encoded data removed]",
      "text/plain": [
       "<Figure size 432x288 with 1 Axes>"
      ]
     },
     "metadata": {
      "needs_background": "light"
     },
     "output_type": "display_data"
    }
   ],
   "source": [
    "plt.clf()\n",
    "plt.imshow(cm, interpolation='nearest', cmap=plt.cm.Wistia)\n",
    "class1 = ['Menos','Más']\n",
    "plt.title('Matriz de confusión más o menos ingresos anuales de 50k')\n",
    "plt.ylabel('True label')\n",
    "plt.xlabel('Predicted label')\n",
    "tick_marks = np.arange(len(class1))\n",
    "plt.xticks(tick_marks, class1, rotation=45)\n",
    "plt.yticks(tick_marks, class1)\n",
    "s = [['TN','FP'], ['FN', 'TP']]\n",
    "for i in range(2):\n",
    "    for j in range(2):\n",
    "        plt.text(j,i, str(s[i][j])+\" = \"+str(cm[i][j]))\n",
    "plt.show()"
   ]
  },
  {
   "cell_type": "markdown",
   "id": "76f2f35b",
   "metadata": {},
   "source": [
    "# MODELO PREDICTIVO"
   ]
  },
  {
   "cell_type": "markdown",
   "id": "04b16761",
   "metadata": {},
   "source": [
    "Tras ver los distintos modelos, he decidido analizar mas en profundidad XGBoost, ya que es el que tiene mayor métrica de exactitud comparandolo con el resto de modelos, y analizando las matrices de confusión es la que más precisión nos puede ofrecer. "
   ]
  },
  {
   "cell_type": "code",
   "execution_count": 47,
   "id": "76704ab5",
   "metadata": {},
   "outputs": [
    {
     "data": {
      "image/png": "[encoded data removed]",
      "text/plain": [
       "<Figure size 432x288 with 1 Axes>"
      ]
     },
     "metadata": {
      "needs_background": "light"
     },
     "output_type": "display_data"
    }
   ],
   "source": [
    "# Importancia por peso\n",
    "xgb.plot_importance(modelo)\n",
    "plt.title('Importancia de las variables del modelo según Peso')\n",
    "plt.show()"
   ]
  },
  {
   "cell_type": "markdown",
   "id": "b811d82a",
   "metadata": {},
   "source": [
    "Este se suele usar por defecto, ya que el peso indica el número de veces que se utilizó la función para segmentar los datos. La clase de importancia de característica prioriza atributos numéricos y numéricos altos.\n",
    "\n",
    "- En este caso, la variable más importante es **fnlwgt** con 269, duplicando a la tercera variable por importancia. A este le sigue **age**, **hours per week**, **capital gain** y **educational num**. \n",
    "\n",
    "- La variable de peso menos significativa es **gender** con 22 puntos, a la cual le supera **race** por 2 puntos más, y a este **native country** con un total de 41 puntos."
   ]
  },
  {
   "cell_type": "code",
   "execution_count": 48,
   "id": "1a6d74de",
   "metadata": {},
   "outputs": [
    {
     "data": {
      "image/png": "[encoded data removed]",
      "text/plain": [
       "<Figure size 432x288 with 1 Axes>"
      ]
     },
     "metadata": {
      "needs_background": "light"
     },
     "output_type": "display_data"
    }
   ],
   "source": [
    "# Importancia por cover\n",
    "xgb.plot_importance(modelo, importance_type=\"cover\")\n",
    "plt.title('Importancia de las variables del modelo según cover')\n",
    "plt.show()"
   ]
  },
  {
   "cell_type": "markdown",
   "id": "b23ed9b0",
   "metadata": {},
   "source": [
    "La importancia por cover significa el número relativo de observaciones relacionadas con esta característica.\n",
    "\n",
    "- En este caso, la variable más importante es **martial status** con 1198. A este le sigue **capital gain**, **race**, **capital loss** y **native country**. \n",
    "\n",
    "- La variable de peso menos significativa es **education** con 349 puntos, a la cual le supera **gender** con 590 puntos, y a este **age** con solo 3 puntos de más. "
   ]
  },
  {
   "cell_type": "code",
   "execution_count": 49,
   "id": "5584722a",
   "metadata": {},
   "outputs": [
    {
     "data": {
      "image/png": "[encoded data removed]",
      "text/plain": [
       "<Figure size 432x288 with 1 Axes>"
      ]
     },
     "metadata": {
      "needs_background": "light"
     },
     "output_type": "display_data"
    }
   ],
   "source": [
    "# Importancia por ganancia\n",
    "xgb.plot_importance(modelo, importance_type=\"gain\")\n",
    "plt.title('Importancia de las variables del modelo según ganancia')\n",
    "plt.show()"
   ]
  },
  {
   "cell_type": "markdown",
   "id": "cf16b88f",
   "metadata": {},
   "source": [
    "La ganancia está relacionada con la contribución relativa decada variable en cuestión al modelo, calculada tomando la contribución de cada característica para cada árbol modelo. Un valor más alto indica que la generación predictiva es más importante. Por lo tanto, la ganancia es la característica más apropiada para explicar la importancia relativa de cada característica.\n",
    "\n",
    "- En este caso, la variable más importante es **martial status** con 103. A este le sigue **capital gain**, **educational num**, **capital loss** y **relationship**. \n",
    "\n",
    "- La variable de peso menos significativa es **education** con 3 puntos, a la cual le supera **gender** con 590 puntos, y a este **age** con solo 3 puntos de más. "
   ]
  },
  {
   "cell_type": "markdown",
   "id": "c3bc8567",
   "metadata": {},
   "source": [
    "Ya que tenemos la varible mas importante es **marital status**, eliminamos aquellas hogares que ganan menos de 50k anuales, para que nos de una mayor precision sobre que tipo de situación matrimonial es mas probable de donar. "
   ]
  },
  {
   "cell_type": "code",
   "execution_count": 50,
   "id": "34d89f4f",
   "metadata": {},
   "outputs": [],
   "source": [
    "datos = datos[datos[\"income\"].isin([2])]"
   ]
  },
  {
   "cell_type": "code",
   "execution_count": 51,
   "id": "2e50ecf0",
   "metadata": {},
   "outputs": [
    {
     "name": "stdout",
     "output_type": "stream",
     "text": [
      "2    85.428254\n",
      "1     6.271926\n",
      "4     5.741422\n",
      "3     1.095234\n",
      "5     0.847095\n",
      "6     0.496278\n",
      "7     0.119791\n",
      "Name: marital-status, dtype: float64\n"
     ]
    },
    {
     "data": {
      "text/plain": [
       "Text(0, 0.5, 'Frecuencia')"
      ]
     },
     "execution_count": 51,
     "metadata": {},
     "output_type": "execute_result"
    },
    {
     "data": {
      "image/png": "[encoded data removed]",
      "text/plain": [
       "<Figure size 1008x576 with 1 Axes>"
      ]
     },
     "metadata": {
      "needs_background": "light"
     },
     "output_type": "display_data"
    }
   ],
   "source": [
    "print(datos['marital-status'].value_counts()/sum(datos['marital-status'].value_counts())*100)\n",
    "ax = datos['marital-status'].value_counts().plot(kind='bar',\n",
    "                                    figsize=(14,8),\n",
    "                                    title=\"Situación matrimonial en cada hogar\", color=[\"lightblue\",\"lightpink\"])\n",
    "ax.set_xlabel(\"Marital Status\")\n",
    "ax.set_ylabel(\"Frecuencia\")"
   ]
  },
  {
   "cell_type": "markdown",
   "id": "435ed03e",
   "metadata": {},
   "source": [
    "El valor de cada variable: \n",
    "- 1: Never-married\n",
    "- 2: Married-civ-spouse\n",
    "- 3: Widowed\n",
    "- 4: Divorced\n",
    "- 5: Separated\n",
    "- 6: Married-spouse-absent\n",
    "- 7: Married-AF-spouse"
   ]
  },
  {
   "cell_type": "markdown",
   "id": "83cfe6dc",
   "metadata": {},
   "source": [
    "## CONCLUSIONES"
   ]
  },
  {
   "cell_type": "markdown",
   "id": "b877161d",
   "metadata": {},
   "source": [
    "- El modelo XGBoost es el más adecuado para resolver el problema de decisión que tiene CharityML, para predecir las personas con más probabilidades de donar a su causa.\n",
    "- Analizando el modelo modelo XGBoost, podemos ver que de las tres importancias (peso, cover y ganancia), en dos de ellas la variable que mas influencia tiene es **marital status** (situación matrimonial del hogar), por lo que se ha elegido esa para analizarla en mas profundidad.\n",
    "- Podemos ver que los hogares con mas probabilidad de donar son principalmente married-civ-spouse (85.43%), seguido por los que nunca se han casado (6.27%), están divorciados (5.74%), los viudos (1.1%), los que estan separados (0.85%) y finalmente Married-AF-spouse (0.12%)."
   ]
  }
 ],
 "metadata": {
  "kernelspec": {
   "display_name": "Python 3",
   "language": "python",
   "name": "python3"
  },
  "language_info": {
   "codemirror_mode": {
    "name": "ipython",
    "version": 3
   },
   "file_extension": ".py",
   "mimetype": "text/x-python",
   "name": "python",
   "nbconvert_exporter": "python",
   "pygments_lexer": "ipython3",
   "version": "3.8.8"
  }
 },
 "nbformat": 4,
 "nbformat_minor": 5
}
